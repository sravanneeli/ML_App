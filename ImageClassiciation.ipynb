{
 "cells": [
  {
   "cell_type": "code",
   "execution_count": 6,
   "id": "a5634fc4-6d24-4bce-83dc-6add4490e90a",
   "metadata": {},
   "outputs": [],
   "source": [
    "import yaml\n",
    "import pprint\n",
    "import numpy as np\n",
    "import tensorflow as tf\n",
    "# import tensorflow_models as tfm"
   ]
  },
  {
   "cell_type": "code",
   "execution_count": 2,
   "id": "09244326-788e-4190-8034-07022717d53f",
   "metadata": {},
   "outputs": [
    {
     "name": "stdout",
     "output_type": "stream",
     "text": [
      "/Users/sravanneeli/Documents/Project_1/models\n"
     ]
    }
   ],
   "source": [
    "%cd models"
   ]
  },
  {
   "cell_type": "code",
   "execution_count": 7,
   "id": "7d201938-a18a-4230-94a6-8cacb30deb72",
   "metadata": {},
   "outputs": [],
   "source": [
    "from official.core import exp_factory\n",
    "from official.vision.modeling import factory\n",
    "from official.vision.serving import export_saved_model_lib"
   ]
  },
  {
   "cell_type": "code",
   "execution_count": 10,
   "id": "486fec0a-784f-40df-b021-d34844809441",
   "metadata": {},
   "outputs": [
    {
     "name": "stdout",
     "output_type": "stream",
     "text": [
      "  % Total    % Received % Xferd  Average Speed   Time    Time     Time  Current\n",
      "                                 Dload  Upload   Total   Spent    Left  Speed\n",
      "100 90.8M  100 90.8M    0     0  23.3M      0  0:00:03  0:00:03 --:--:-- 23.2M-:--:-- 23.3M\n",
      "x ckpt-62400.data-00000-of-00001\n",
      "x ckpt-62400.index\n"
     ]
    }
   ],
   "source": [
    "!curl -L https://storage.googleapis.com/tf_model_garden/vision/resnet/resnet-50-i224.tar.gz --output ../tfm-ckpts/resnet50-ckpt.tar.gz\n",
    "!mkdir ../tfm-ckpts/resnet50-ckpt/\n",
    "!tar -xvzf ../tfm-ckpts/resnet50-ckpt.tar.gz -C ../tfm-ckpts/resnet50-ckpt/\n",
    "!rm ../tfm-ckpts/resnet50-ckpt.tar.gz"
   ]
  },
  {
   "cell_type": "code",
   "execution_count": 11,
   "id": "dbc89779-aaa9-42bf-a605-376ef9c6b2c8",
   "metadata": {},
   "outputs": [],
   "source": [
    "exp_config = exp_factory.get_exp_config('resnet_imagenet')\n",
    "\n",
    "with open('./official/vision/configs/experiments/image_classification/imagenet_resnet50_tpu.yaml', 'r') as file:\n",
    "  override_params = yaml.full_load(file)"
   ]
  },
  {
   "cell_type": "code",
   "execution_count": 13,
   "id": "8a93e719-ea35-4905-b1dc-c45da5a1ced4",
   "metadata": {},
   "outputs": [
    {
     "name": "stdout",
     "output_type": "stream",
     "text": [
      "INFO:tensorflow:Assets written to: ../tf-models/resnet50/assets\n"
     ]
    },
    {
     "name": "stderr",
     "output_type": "stream",
     "text": [
      "INFO:tensorflow:Assets written to: ../tf-models/resnet50/assets\n"
     ]
    }
   ],
   "source": [
    "export_saved_model_lib.export_inference_graph(\n",
    "    input_type='image_tensor',\n",
    "    batch_size=1,\n",
    "    input_image_size=[224, 224],\n",
    "    checkpoint_path='../tfm-ckpts/resnet50-ckpt/ckpt-62400',\n",
    "    params=exp_config,\n",
    "    export_dir='../tf-models/resnet50/'\n",
    ")"
   ]
  }
 ],
 "metadata": {
  "kernelspec": {
   "display_name": "Python 3 (ipykernel)",
   "language": "python",
   "name": "python3"
  },
  "language_info": {
   "codemirror_mode": {
    "name": "ipython",
    "version": 3
   },
   "file_extension": ".py",
   "mimetype": "text/x-python",
   "name": "python",
   "nbconvert_exporter": "python",
   "pygments_lexer": "ipython3",
   "version": "3.10.11"
  }
 },
 "nbformat": 4,
 "nbformat_minor": 5
}
